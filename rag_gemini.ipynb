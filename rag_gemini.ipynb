{
 "cells": [
  {
   "cell_type": "code",
   "execution_count": 1,
   "metadata": {},
   "outputs": [
    {
     "data": {
      "text/plain": [
       "[Document(metadata={'producer': 'Microsoft® Word LTSC', 'creator': 'Microsoft® Word LTSC', 'creationdate': '2025-03-22T15:08:28+05:00', 'author': 'Windows User', 'moddate': '2025-03-22T15:08:28+05:00', 'source': 'Fazeel Resume.pdf', 'total_pages': 1, 'page': 0, 'page_label': '1'}, page_content='Fazeel Asghar  \\n LinkedIn |   +92-312-6690033 |  +92-312-6690033 |  FazeelPortfolio.com |  fasghar40@gmail.com|  GitHub  \\n \\nProfessional Summary __________________________________________________________________________________  \\nAI Engineer and Data Scientist with extensive experience in Computer Vision, Generative AI, Large Language Models (LLMs), MLOps, and \\nIoT. Proficient in data preprocessing, advanced Exploratory Data Analysis (EDA), and professional data visualization, with a strong \\nfoundation in machine learning and deep learning—ranging from regression and classification to object detection and generative AI. \\nSkilled in fine-tuning LLMs (Hugging Face), Retrieval-Augmented Generation (RAG), and text classification to text generation. Hands-on \\nexperience in image generation with Stable Diffusion and building production-ready AI solutions, deploying models efficiently with MLOps \\nbest practices. Passionate about integrating AI into SaaS, PaaS, healthcare, autonomous systems, and predictive analytics, driving real-\\nworld impact. Adept at optimizing AI workflows, developing scalable architectures, and bridging AI with IoT for intelligent automation. \\nActive in AI research and open-source contributions, continuously pushing the boundaries of innovation. \\nTechnical Skills __________________________________________________________________________________________  \\nProgramming & Development:  \\n• Languages & Frameworks: Python, Html, CSS, Scikit-Learn, FastAPI, Flask, Django, Streamlit, OpenCV, QtPy5, TensorFlow, Keras, Hugging Face \\nTransformers.  \\n• Tools & Libraries: Qtpy, Pandas, NumPy, Matplotlib, Seaborn, Folium, OpenAI API, REST APIs, Docker, GitHub Actions, CI/CD Pipelines.  \\n• Database Systems: SQL, NoSQL, Vector Databases (XAMP, MySQL, MongoDB Atlas, ChromaDB, Pinecone).  \\nData Science & AI:  \\n• Core Skills: Machine Learning, Deep Learning, Natural Language Processing (NLP), Time Series Analysis, CNN, RNN, Object Detection, YOLO, \\nModel Deployment, Prompt Engineering.  \\n• Frameworks & Tools: Numpy, Pandas, Scitkit-Learn, Matplotlib, Tensorflow, Huggingface, LangChain, Fine-Tuning, RAG (Retrieval-Augmented \\nGeneration), Databricks.  \\n• Applications: AI-Driven Process Automation, Predictive Modeling, Statistical Analysis, Data Visualization , Machine Learning Pipelines.  \\nCloud & MLOps:  \\n• Platforms: AWS (EC2, ECR, S3, IAM, IVS).  \\n• Practices: MLOps, AIOps, Cloud Machine Learning, MLflow, Docker, CI/CD, DVC, Kubernetes.  \\nManagement & Operations:  \\n• Agile Methodologies, Microservices Architecture, Business Analysis, Team Leadership, Business Intelligence.  \\nLanguages:  \\n• Fluent in English and Urdu.  \\nExperience ___________________________________________________________________________________________  \\nJunior AI Engineer \\n \\nSafe-RH Lab   \\nBahawalpur, Pakistan \\n \\n06/2022 – 06/2024 \\n  \\n• Contributed to the Development of SAFE-RH Rural Health Monitoring System:  Actively participated in the international Safe -RH \\nproject, collaborating with universities from Pakistan, University of the West of Scotland, and University de Lorraine (France) to develop \\na Rural Health Monitoring System. This system allows real -time collection of vital signs, sending them to doctors for immediate \\ndiagnosis and prescription.  \\n• Integrated IoT & Machine Learning for Remote Health Monitoring: Contributed to the design and deployment of an IoT-based health \\nmonitoring system that enables real-time data collection and transmission to healthcare providers for timely intervention.  \\n• Optimized Data Pipelines for Real-Time Health Insights: Worked on optimizing the data flow between IoT sensors and cloud platforms, \\nensuring real-time transmission of vital signs to doctors, enhancing efficiency in remote healthcare management.  \\n• Cross-Functional Collaboration & Research Execution: Collaborated with multidisciplinary teams from multiple universities, aligning \\nresearch goals with technical implementation, ensuring seamless integration of AI-driven systems in healthcare environments.  \\n• Mentorship & Knowledge Sharing: Supported team members in AI, ML, and IoT, providing mentorship and fostering innovation \\nwithin the team, driving advancements in remote health monitoring. \\n• Key Achievements: Successfully contributed to the development of a scalable, real-time Rural Health Monitoring System, enhancing \\nremote healthcare delivery and patient care.\\n \\nResearch Internee \\n \\n \\nUWS   \\nScotland, United Kingdom \\n \\n06/2024 – 08/2024 \\n  \\n• Proposed and Developed a Smart Wheelchair with Obstacle Detection & Vital Signs Monitoring: Initiated research under the Safe-\\nRH Mobility Program, proposing an AI-powered smart wheelchair for continuous patient monitoring and automated alerts for \\ndoctors. The project was accepted as part of the program. \\n• Engineered Obstacle Detection & Avoidance System: Developed a functional prototype of a smart wheelchair with real-time object \\ndetection and obstacle avoidance using Arduino, Ultrasonic Sensors, Infrared Sensors, and a Camera, ensuring safe navigation.  \\n• Explored IoT-Enabled Vital Signs Monitoring: Designed a framework to integrate IoT-based health monitoring, aiming to track critical \\npatient vitals and send real-time notifications to doctors for proactive healthcare intervention.  \\n• Optimized Embedded Systems for Autonomous Navigation: Implemented efficient sensor fusion and data processing techniques to \\nenhance wheelchair movement and environmental awareness.  \\n• Cross-Institutional Research Collaboration: Worked with researchers from UWS and other partner universities, aligning AI and IoT \\napplications with assistive healthcare technology advancements. \\n• Key Achievements: Successfully developed a functional small-scale smart wheelchair prototype capable of real-time obstacle detection \\nand autonomous movement, laying the foundation for future integration of vital signs monitoring in assistive mobility solutions.\\n \\nEducation ______________________________________________________________________________________________  \\nBachelors in Information Technology (Major: Artificial Intelligence and CS)   Islamia University of Bahawalpur \\n \\nCertifications _________________________________________________________________________________________  \\n \\n• IBM Machine Learning with Python Certificate, IBM. • Machine Learning Specialization, DeepLearning.ai.                    \\n• Data Visualization with Python, IBM.      •  Research Internee, University of the West of Scotland')]"
      ]
     },
     "execution_count": 1,
     "metadata": {},
     "output_type": "execute_result"
    }
   ],
   "source": [
    "from langchain.document_loaders import PyPDFLoader\n",
    "loader = PyPDFLoader(\"Fazeel Resume.pdf\")\n",
    "data = loader.load()\n",
    "data"
   ]
  },
  {
   "cell_type": "code",
   "execution_count": 2,
   "metadata": {},
   "outputs": [
    {
     "data": {
      "text/plain": [
       "Document(metadata={'producer': 'Microsoft® Word LTSC', 'creator': 'Microsoft® Word LTSC', 'creationdate': '2025-03-22T15:08:28+05:00', 'author': 'Windows User', 'moddate': '2025-03-22T15:08:28+05:00', 'source': 'Fazeel Resume.pdf', 'total_pages': 1, 'page': 0, 'page_label': '1'}, page_content='Fazeel Asghar  \\n LinkedIn |   +92-312-6690033 |  +92-312-6690033 |  FazeelPortfolio.com |  fasghar40@gmail.com|  GitHub  \\n \\nProfessional Summary __________________________________________________________________________________  \\nAI Engineer and Data Scientist with extensive experience in Computer Vision, Generative AI, Large Language Models (LLMs), MLOps, and \\nIoT. Proficient in data preprocessing, advanced Exploratory Data Analysis (EDA), and professional data visualization, with a strong \\nfoundation in machine learning and deep learning—ranging from regression and classification to object detection and generative AI. \\nSkilled in fine-tuning LLMs (Hugging Face), Retrieval-Augmented Generation (RAG), and text classification to text generation. Hands-on \\nexperience in image generation with Stable Diffusion and building production-ready AI solutions, deploying models efficiently with MLOps')"
      ]
     },
     "execution_count": 2,
     "metadata": {},
     "output_type": "execute_result"
    }
   ],
   "source": [
    "from langchain.text_splitter import RecursiveCharacterTextSplitter\n",
    "\n",
    "text_splitter = RecursiveCharacterTextSplitter(\n",
    "    chunk_size=1000,\n",
    "    chunk_overlap=50)\n",
    "docs = text_splitter.split_documents(data)\n",
    "docs[0]"
   ]
  },
  {
   "cell_type": "code",
   "execution_count": 3,
   "metadata": {},
   "outputs": [
    {
     "data": {
      "text/plain": [
       "True"
      ]
     },
     "execution_count": 3,
     "metadata": {},
     "output_type": "execute_result"
    }
   ],
   "source": [
    "from  dotenv  import  load_dotenv\n",
    "load_dotenv()"
   ]
  },
  {
   "cell_type": "code",
   "execution_count": 5,
   "metadata": {},
   "outputs": [
    {
     "data": {
      "text/plain": [
       "[0.04656680300831795,\n",
       " -0.0376756377518177,\n",
       " -0.0274836253374815,\n",
       " -0.02519204653799534,\n",
       " 0.023942284286022186]"
      ]
     },
     "execution_count": 5,
     "metadata": {},
     "output_type": "execute_result"
    }
   ],
   "source": [
    "from langchain.vectorstores import Chroma\n",
    "from langchain_google_genai import GoogleGenerativeAIEmbeddings\n",
    "\n",
    "embeddings = GoogleGenerativeAIEmbeddings(model=\"models/embedding-001\")\n",
    "vector  = embeddings.embed_query(\"Hello World\")\n",
    "vector[:5]"
   ]
  },
  {
   "cell_type": "code",
   "execution_count": 8,
   "metadata": {},
   "outputs": [],
   "source": [
    "from langchain.vectorstores import FAISS\n",
    "vectorStores =  FAISS.from_documents(docs, embeddings)"
   ]
  },
  {
   "cell_type": "code",
   "execution_count": 9,
   "metadata": {},
   "outputs": [],
   "source": [
    "retriever = vectorStores.as_retriever(search_kwargs={\"k\": 3},search_type=\"similarity\")\n",
    "retrieved_docs = retriever.invoke(\"Skills\")"
   ]
  },
  {
   "cell_type": "code",
   "execution_count": 10,
   "metadata": {},
   "outputs": [
    {
     "data": {
      "text/plain": [
       "[Document(id='f000226b-bb10-4f26-81f5-2d18356d2473', metadata={'producer': 'Microsoft® Word LTSC', 'creator': 'Microsoft® Word LTSC', 'creationdate': '2025-03-22T15:08:28+05:00', 'author': 'Windows User', 'moddate': '2025-03-22T15:08:28+05:00', 'source': 'Fazeel Resume.pdf', 'total_pages': 1, 'page': 0, 'page_label': '1'}, page_content='Data Science & AI:  \\n• Core Skills: Machine Learning, Deep Learning, Natural Language Processing (NLP), Time Series Analysis, CNN, RNN, Object Detection, YOLO, \\nModel Deployment, Prompt Engineering.  \\n• Frameworks & Tools: Numpy, Pandas, Scitkit-Learn, Matplotlib, Tensorflow, Huggingface, LangChain, Fine-Tuning, RAG (Retrieval-Augmented \\nGeneration), Databricks.  \\n• Applications: AI-Driven Process Automation, Predictive Modeling, Statistical Analysis, Data Visualization , Machine Learning Pipelines.  \\nCloud & MLOps:  \\n• Platforms: AWS (EC2, ECR, S3, IAM, IVS).  \\n• Practices: MLOps, AIOps, Cloud Machine Learning, MLflow, Docker, CI/CD, DVC, Kubernetes.  \\nManagement & Operations:  \\n• Agile Methodologies, Microservices Architecture, Business Analysis, Team Leadership, Business Intelligence.  \\nLanguages:  \\n• Fluent in English and Urdu.  \\nExperience ___________________________________________________________________________________________  \\nJunior AI Engineer \\n \\nSafe-RH Lab'),\n",
       " Document(id='76e1f33d-3253-4dd4-9332-f922377d7f4b', metadata={'producer': 'Microsoft® Word LTSC', 'creator': 'Microsoft® Word LTSC', 'creationdate': '2025-03-22T15:08:28+05:00', 'author': 'Windows User', 'moddate': '2025-03-22T15:08:28+05:00', 'source': 'Fazeel Resume.pdf', 'total_pages': 1, 'page': 0, 'page_label': '1'}, page_content='best practices. Passionate about integrating AI into SaaS, PaaS, healthcare, autonomous systems, and predictive analytics, driving real-\\nworld impact. Adept at optimizing AI workflows, developing scalable architectures, and bridging AI with IoT for intelligent automation. \\nActive in AI research and open-source contributions, continuously pushing the boundaries of innovation. \\nTechnical Skills __________________________________________________________________________________________  \\nProgramming & Development:  \\n• Languages & Frameworks: Python, Html, CSS, Scikit-Learn, FastAPI, Flask, Django, Streamlit, OpenCV, QtPy5, TensorFlow, Keras, Hugging Face \\nTransformers.  \\n• Tools & Libraries: Qtpy, Pandas, NumPy, Matplotlib, Seaborn, Folium, OpenAI API, REST APIs, Docker, GitHub Actions, CI/CD Pipelines.  \\n• Database Systems: SQL, NoSQL, Vector Databases (XAMP, MySQL, MongoDB Atlas, ChromaDB, Pinecone).  \\nData Science & AI:'),\n",
       " Document(id='d9f8d7ba-7e77-4ec2-9e10-fd95614aadb4', metadata={'producer': 'Microsoft® Word LTSC', 'creator': 'Microsoft® Word LTSC', 'creationdate': '2025-03-22T15:08:28+05:00', 'author': 'Windows User', 'moddate': '2025-03-22T15:08:28+05:00', 'source': 'Fazeel Resume.pdf', 'total_pages': 1, 'page': 0, 'page_label': '1'}, page_content='applications with assistive healthcare technology advancements. \\n• Key Achievements: Successfully developed a functional small-scale smart wheelchair prototype capable of real-time obstacle detection \\nand autonomous movement, laying the foundation for future integration of vital signs monitoring in assistive mobility solutions.\\n \\nEducation ______________________________________________________________________________________________  \\nBachelors in Information Technology (Major: Artificial Intelligence and CS)   Islamia University of Bahawalpur \\n \\nCertifications _________________________________________________________________________________________  \\n \\n• IBM Machine Learning with Python Certificate, IBM. • Machine Learning Specialization, DeepLearning.ai.                    \\n• Data Visualization with Python, IBM.      •  Research Internee, University of the West of Scotland')]"
      ]
     },
     "execution_count": 10,
     "metadata": {},
     "output_type": "execute_result"
    }
   ],
   "source": [
    "retrieved_docs"
   ]
  },
  {
   "cell_type": "code",
   "execution_count": 11,
   "metadata": {},
   "outputs": [],
   "source": [
    "from langchain_google_genai import ChatGoogleGenerativeAI\n",
    "\n",
    "llm  = ChatGoogleGenerativeAI(model=\"gemini-1.5-pro\", temperature=0.3, max_tokens=500)"
   ]
  },
  {
   "cell_type": "code",
   "execution_count": 34,
   "metadata": {},
   "outputs": [],
   "source": [
    "from langchain_core.prompts import ChatPromptTemplate\n",
    "from langchain.chains import RetrievalQA\n",
    "\n",
    "# Define prompt template\n",
    "system_prompt = (\n",
    "    \"You are an assistant for question-answering tasks. \"\n",
    "    \"Use the following pieces of retrieved context to answer \"\n",
    "    \"the question. If you don't know the answer, say that you \"\n",
    "    \"don't know. Use three sentences maximum and keep the \"\n",
    "    \"answer concise.\"\n",
    "    \"\\n\\n\"\n",
    "    \"{context}\"\n",
    ")\n",
    "prompt = ChatPromptTemplate.from_template(system_prompt)"
   ]
  },
  {
   "cell_type": "code",
   "execution_count": 35,
   "metadata": {},
   "outputs": [],
   "source": [
    "# Create RetrievalQA chain\n",
    "qa_chain = RetrievalQA.from_chain_type(llm=llm, retriever=retriever)"
   ]
  },
  {
   "cell_type": "code",
   "execution_count": 37,
   "metadata": {},
   "outputs": [
    {
     "name": "stdout",
     "output_type": "stream",
     "text": [
      "{'query': 'What is the summmary of your resume?', 'result': \"A Junior AI Engineer with a Bachelor's in Information Technology (majoring in AI and CS) and experience developing a smart wheelchair prototype with real-time obstacle detection and autonomous movement.  Proficient in Python, various AI/ML frameworks (TensorFlow, Keras, Hugging Face Transformers, Scikit-learn), and cloud platforms (AWS). Possesses strong data science skills, including machine learning, deep learning, NLP, and time series analysis.  Passionate about applying AI to SaaS, PaaS, healthcare, autonomous systems, and predictive analytics.\"}\n"
     ]
    }
   ],
   "source": [
    "# Query the system\n",
    "query = \"What is the summmary of your resume?\"\n",
    "response = qa_chain.invoke(query)\n",
    "\n",
    "print(response)"
   ]
  },
  {
   "cell_type": "code",
   "execution_count": null,
   "metadata": {},
   "outputs": [],
   "source": []
  }
 ],
 "metadata": {
  "kernelspec": {
   "display_name": "Python 3",
   "language": "python",
   "name": "python3"
  },
  "language_info": {
   "codemirror_mode": {
    "name": "ipython",
    "version": 3
   },
   "file_extension": ".py",
   "mimetype": "text/x-python",
   "name": "python",
   "nbconvert_exporter": "python",
   "pygments_lexer": "ipython3",
   "version": "3.12.6"
  }
 },
 "nbformat": 4,
 "nbformat_minor": 2
}
